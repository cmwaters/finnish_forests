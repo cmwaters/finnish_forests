{
 "cells": [
  {
   "cell_type": "markdown",
   "metadata": {},
   "source": [
    "Import stuff"
   ]
  },
  {
   "cell_type": "code",
   "execution_count": 145,
   "metadata": {},
   "outputs": [],
   "source": [
    "import pandas as pd\n",
    "import numpy as np\n",
    "from pyproj import Proj, transform\n",
    "import matplotlib.pyplot as plt\n",
    "import datetime"
   ]
  },
  {
   "cell_type": "markdown",
   "metadata": {},
   "source": [
    "Read from the csv and rename the specific columns"
   ]
  },
  {
   "cell_type": "code",
   "execution_count": 8,
   "metadata": {},
   "outputs": [],
   "source": [
    "file = 'np_data.csv'\n",
    "df = pd.read_csv(file, sep = \",\", usecols = ['CounterID_ASTA', 'StartTime', 'EndTime', 'Visits', 'ASTA_Counters.NationalParkCode', 'PAVE_Counters.CoordinateNorth', 'PAVE_Counters.CoordinateEast'])\n",
    "df.columns = ['id', 'start', 'end', 'visits', 'np_code', 'loc_north', 'loc_east']\n",
    "df = df.drop(df[df.np_code == 34361].index)\n",
    "df['start'] = pd.to_datetime(df['start'])\n",
    "df['end']  = pd.to_datetime(df['end'])\n",
    "df = df.drop(df[df.end < '1/10/2018 00:00'].index)\n",
    "df['duration'] = df.apply(lambda row: row.end-row.start, axis=1)\n",
    "df = df.drop(df[df.duration > '01:00:00'].index)"
   ]
  },
  {
   "cell_type": "code",
   "execution_count": 92,
   "metadata": {},
   "outputs": [],
   "source": [
    "df2 = df\n",
    "df2\n",
    "df2 = df2.drop(['end', 'np_code', 'loc_north', 'loc_east', 'duration'], axis=1)\n",
    "hour = df2.iloc[[44]]['start'].dt.hour\n",
    "#df2.to_numpy()"
   ]
  },
  {
   "cell_type": "code",
   "execution_count": 99,
   "metadata": {},
   "outputs": [],
   "source": [
    "ids = df2['id'].unique()\n",
    "for i in range(len(ids)):\n",
    "    df2 = df2.replace(ids[i],i)"
   ]
  },
  {
   "cell_type": "code",
   "execution_count": 100,
   "metadata": {},
   "outputs": [
    {
     "data": {
      "text/html": [
       "<div>\n",
       "<style scoped>\n",
       "    .dataframe tbody tr th:only-of-type {\n",
       "        vertical-align: middle;\n",
       "    }\n",
       "\n",
       "    .dataframe tbody tr th {\n",
       "        vertical-align: top;\n",
       "    }\n",
       "\n",
       "    .dataframe thead th {\n",
       "        text-align: right;\n",
       "    }\n",
       "</style>\n",
       "<table border=\"1\" class=\"dataframe\">\n",
       "  <thead>\n",
       "    <tr style=\"text-align: right;\">\n",
       "      <th></th>\n",
       "      <th>id</th>\n",
       "      <th>start</th>\n",
       "      <th>visits</th>\n",
       "    </tr>\n",
       "  </thead>\n",
       "  <tbody>\n",
       "    <tr>\n",
       "      <td>212219</td>\n",
       "      <td>0</td>\n",
       "      <td>2018-02-01 00:00:00</td>\n",
       "      <td>0</td>\n",
       "    </tr>\n",
       "    <tr>\n",
       "      <td>212220</td>\n",
       "      <td>0</td>\n",
       "      <td>2018-02-01 01:00:00</td>\n",
       "      <td>0</td>\n",
       "    </tr>\n",
       "    <tr>\n",
       "      <td>212221</td>\n",
       "      <td>0</td>\n",
       "      <td>2018-02-01 02:00:00</td>\n",
       "      <td>0</td>\n",
       "    </tr>\n",
       "    <tr>\n",
       "      <td>212222</td>\n",
       "      <td>0</td>\n",
       "      <td>2018-02-01 03:00:00</td>\n",
       "      <td>0</td>\n",
       "    </tr>\n",
       "    <tr>\n",
       "      <td>212223</td>\n",
       "      <td>0</td>\n",
       "      <td>2018-02-01 04:00:00</td>\n",
       "      <td>0</td>\n",
       "    </tr>\n",
       "    <tr>\n",
       "      <td>...</td>\n",
       "      <td>...</td>\n",
       "      <td>...</td>\n",
       "      <td>...</td>\n",
       "    </tr>\n",
       "    <tr>\n",
       "      <td>508769</td>\n",
       "      <td>4</td>\n",
       "      <td>2019-03-10 19:00:00</td>\n",
       "      <td>3</td>\n",
       "    </tr>\n",
       "    <tr>\n",
       "      <td>508770</td>\n",
       "      <td>4</td>\n",
       "      <td>2019-04-10 07:00:00</td>\n",
       "      <td>3</td>\n",
       "    </tr>\n",
       "    <tr>\n",
       "      <td>508771</td>\n",
       "      <td>4</td>\n",
       "      <td>2019-04-10 14:00:00</td>\n",
       "      <td>3</td>\n",
       "    </tr>\n",
       "    <tr>\n",
       "      <td>508772</td>\n",
       "      <td>4</td>\n",
       "      <td>2019-06-10 09:00:00</td>\n",
       "      <td>3</td>\n",
       "    </tr>\n",
       "    <tr>\n",
       "      <td>508773</td>\n",
       "      <td>4</td>\n",
       "      <td>2019-06-10 18:00:00</td>\n",
       "      <td>3</td>\n",
       "    </tr>\n",
       "  </tbody>\n",
       "</table>\n",
       "<p>82640 rows × 3 columns</p>\n",
       "</div>"
      ],
      "text/plain": [
       "        id               start  visits\n",
       "212219   0 2018-02-01 00:00:00       0\n",
       "212220   0 2018-02-01 01:00:00       0\n",
       "212221   0 2018-02-01 02:00:00       0\n",
       "212222   0 2018-02-01 03:00:00       0\n",
       "212223   0 2018-02-01 04:00:00       0\n",
       "...     ..                 ...     ...\n",
       "508769   4 2019-03-10 19:00:00       3\n",
       "508770   4 2019-04-10 07:00:00       3\n",
       "508771   4 2019-04-10 14:00:00       3\n",
       "508772   4 2019-06-10 09:00:00       3\n",
       "508773   4 2019-06-10 18:00:00       3\n",
       "\n",
       "[82640 rows x 3 columns]"
      ]
     },
     "execution_count": 100,
     "metadata": {},
     "output_type": "execute_result"
    }
   ],
   "source": [
    "df2"
   ]
  },
  {
   "cell_type": "code",
   "execution_count": 133,
   "metadata": {},
   "outputs": [
    {
     "name": "stdout",
     "output_type": "stream",
     "text": [
      "(82640, 3)\n"
     ]
    }
   ],
   "source": [
    "df3 = df2.to_numpy()\n",
    "print(df3.shape)"
   ]
  },
  {
   "cell_type": "code",
   "execution_count": 134,
   "metadata": {},
   "outputs": [],
   "source": [
    "hours = np.zeros((len(df2['id'].unique()), 24))\n",
    "months = np.zeros((len(df2['id'].unique()), 12))\n",
    "days = np.zeros((len(df2['id'].unique()), 7))"
   ]
  },
  {
   "cell_type": "code",
   "execution_count": 154,
   "metadata": {},
   "outputs": [
    {
     "data": {
      "text/plain": [
       "array([[1.6000e+02, 0.0000e+00, 2.4000e+01, 2.8000e+01, 3.6000e+01,\n",
       "        5.2000e+01, 2.3200e+02, 7.0000e+02, 9.9200e+02, 3.0960e+03,\n",
       "        8.7040e+03, 1.7688e+04, 2.2748e+04, 2.6084e+04, 2.5168e+04,\n",
       "        2.1500e+04, 1.7396e+04, 1.1460e+04, 7.9400e+03, 4.9960e+03,\n",
       "        2.8480e+03, 1.3880e+03, 3.9200e+02, 1.2800e+02],\n",
       "       [4.4000e+01, 1.6000e+01, 4.0000e+00, 4.0000e+00, 8.0000e+00,\n",
       "        6.8000e+01, 2.7600e+02, 4.1200e+02, 1.1240e+03, 2.0120e+03,\n",
       "        4.0160e+03, 5.5400e+03, 6.3360e+03, 5.1160e+03, 5.9840e+03,\n",
       "        5.0640e+03, 4.1960e+03, 4.4640e+03, 5.8880e+03, 5.0200e+03,\n",
       "        3.2760e+03, 1.3360e+03, 4.3600e+02, 6.0000e+01],\n",
       "       [2.0000e+01, 3.2000e+01, 4.0000e+00, 4.0000e+00, 2.8000e+01,\n",
       "        5.6000e+01, 1.9200e+02, 2.2400e+02, 7.4800e+02, 1.5280e+03,\n",
       "        3.1760e+03, 4.1720e+03, 3.8280e+03, 3.0880e+03, 2.6440e+03,\n",
       "        2.3480e+03, 2.0600e+03, 1.9600e+03, 2.3600e+03, 1.7520e+03,\n",
       "        1.2760e+03, 4.7600e+02, 8.8000e+01, 1.2000e+01],\n",
       "       [1.6000e+01, 2.8000e+01, 1.2000e+01, 1.2000e+01, 4.8000e+01,\n",
       "        1.0400e+02, 7.1200e+02, 6.9200e+02, 1.6680e+03, 4.7040e+03,\n",
       "        9.3360e+03, 9.4480e+03, 9.1080e+03, 8.5840e+03, 7.2480e+03,\n",
       "        6.5720e+03, 5.4760e+03, 5.8160e+03, 5.5680e+03, 2.8560e+03,\n",
       "        1.5600e+03, 6.0400e+02, 2.7200e+02, 1.2000e+01],\n",
       "       [3.6400e+02, 1.3200e+02, 8.4000e+01, 2.0000e+01, 3.6000e+01,\n",
       "        7.6000e+01, 1.7200e+02, 6.0800e+02, 1.8200e+03, 3.9920e+03,\n",
       "        8.3160e+03, 1.4140e+04, 1.7624e+04, 1.6980e+04, 1.5952e+04,\n",
       "        1.5228e+04, 1.1556e+04, 8.5600e+03, 6.6320e+03, 5.2760e+03,\n",
       "        3.7320e+03, 2.3960e+03, 1.4720e+03, 6.5600e+02],\n",
       "       [8.4000e+01, 8.0000e+01, 1.0400e+02, 8.0000e+01, 5.6000e+01,\n",
       "        1.4000e+02, 1.0400e+02, 1.2800e+02, 2.8800e+02, 9.1200e+02,\n",
       "        1.5800e+03, 2.0840e+03, 2.4320e+03, 2.5960e+03, 2.5480e+03,\n",
       "        1.8960e+03, 1.6760e+03, 1.2840e+03, 1.1080e+03, 8.2800e+02,\n",
       "        7.0800e+02, 2.6400e+02, 1.5200e+02, 8.8000e+01],\n",
       "       [1.9848e+04, 0.0000e+00, 0.0000e+00, 0.0000e+00, 0.0000e+00,\n",
       "        0.0000e+00, 0.0000e+00, 0.0000e+00, 0.0000e+00, 0.0000e+00,\n",
       "        0.0000e+00, 5.5000e+03, 0.0000e+00, 0.0000e+00, 0.0000e+00,\n",
       "        4.5640e+03, 0.0000e+00, 0.0000e+00, 0.0000e+00, 0.0000e+00,\n",
       "        0.0000e+00, 0.0000e+00, 0.0000e+00, 0.0000e+00],\n",
       "       [0.0000e+00, 0.0000e+00, 0.0000e+00, 0.0000e+00, 0.0000e+00,\n",
       "        0.0000e+00, 0.0000e+00, 0.0000e+00, 8.0400e+02, 9.0160e+03,\n",
       "        6.6360e+03, 0.0000e+00, 0.0000e+00, 0.0000e+00, 0.0000e+00,\n",
       "        0.0000e+00, 0.0000e+00, 0.0000e+00, 0.0000e+00, 0.0000e+00,\n",
       "        0.0000e+00, 0.0000e+00, 0.0000e+00, 0.0000e+00]])"
      ]
     },
     "execution_count": 154,
     "metadata": {},
     "output_type": "execute_result"
    }
   ],
   "source": [
    "for i in range(df3.shape[0]):\n",
    "    hours[df3[i,0], df3[i,1].hour] += df3[i,2]\n",
    "    months[df3[i,0], df3[i,1].month-1] += df3[i,2]\n",
    "    days[df3[i,0], df3[i,1].weekday()] += df3[i,2]\n",
    "hours"
   ]
  },
  {
   "cell_type": "code",
   "execution_count": 152,
   "metadata": {},
   "outputs": [
    {
     "data": {
      "text/plain": [
       "[<matplotlib.lines.Line2D at 0x14c505c22c8>]"
      ]
     },
     "execution_count": 152,
     "metadata": {},
     "output_type": "execute_result"
    },
    {
     "data": {
      "image/png": "[encoded data removed]",
      "text/plain": [
       "<Figure size 432x288 with 1 Axes>"
      ]
     },
     "metadata": {
      "needs_background": "light"
     },
     "output_type": "display_data"
    }
   ],
   "source": [
    "#print(hours)\n",
    "plt.plot(days[5,:])"
   ]
  },
  {
   "cell_type": "code",
   "execution_count": 159,
   "metadata": {},
   "outputs": [],
   "source": [
    "header = \"0, 1, 2, 3, 4, 5, 6, 7, 8, 9, 10, 11, 12, 13, 14, 15, 16, 17, 18, 19, 20, 21, 22, 23\"\n",
    "np.savetxt(\"counters_hours.csv\", hours, delimiter=\",\", fmt='%s', header=header, comments='')\n",
    "header = \"monday, tuesday, wednesday, thursday, friday, saturday, sunday\"\n",
    "np.savetxt(\"counters_days.csv\", days, delimiter=\",\", fmt='%s', header=header, comments='')\n",
    "header = \"january, february, march, april, may, june, july, august, september, october, november, december\"\n",
    "np.savetxt(\"counters_months.csv\", months, delimiter=\",\", fmt='%s', header=header, comments='')"
   ]
  },
  {
   "cell_type": "markdown",
   "metadata": {},
   "source": [
    "National park ids:\n",
    "852 = Nuuksio National Park\n",
    "34361 = Pallas-Yllästunturi National Park\n",
    "Drop the P-Y National Park\n",
    "Drop data before 1/10/2018\n",
    "Drop data witch is more than an hour"
   ]
  }
 ],
 "metadata": {
  "kernelspec": {
   "display_name": "Python 3",
   "language": "python",
   "name": "python3"
  },
  "language_info": {
   "codemirror_mode": {
    "name": "ipython",
    "version": 3
   },
   "file_extension": ".py",
   "mimetype": "text/x-python",
   "name": "python",
   "nbconvert_exporter": "python",
   "pygments_lexer": "ipython3",
   "version": "3.7.4"
  }
 },
 "nbformat": 4,
 "nbformat_minor": 2
}
